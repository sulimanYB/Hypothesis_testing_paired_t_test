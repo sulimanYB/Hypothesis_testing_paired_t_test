{
 "cells": [
  {
   "cell_type": "code",
   "execution_count": 18,
   "metadata": {},
   "outputs": [],
   "source": [
    "import pandas as pd\n",
    "import numpy as np\n",
    "from scipy.stats import norm, t\n",
    "import matplotlib.pyplot as plt\n",
    "import pingouin"
   ]
  },
  {
   "cell_type": "markdown",
   "metadata": {},
   "source": [
    "### Read data"
   ]
  },
  {
   "cell_type": "code",
   "execution_count": 19,
   "metadata": {},
   "outputs": [
    {
     "data": {
      "text/html": [
       "<div>\n",
       "<style scoped>\n",
       "    .dataframe tbody tr th:only-of-type {\n",
       "        vertical-align: middle;\n",
       "    }\n",
       "\n",
       "    .dataframe tbody tr th {\n",
       "        vertical-align: top;\n",
       "    }\n",
       "\n",
       "    .dataframe thead th {\n",
       "        text-align: right;\n",
       "    }\n",
       "</style>\n",
       "<table border=\"1\" class=\"dataframe\">\n",
       "  <thead>\n",
       "    <tr style=\"text-align: right;\">\n",
       "      <th></th>\n",
       "      <th>state</th>\n",
       "      <th>county</th>\n",
       "      <th>repub_percent_08</th>\n",
       "      <th>repub_percent_12</th>\n",
       "    </tr>\n",
       "  </thead>\n",
       "  <tbody>\n",
       "    <tr>\n",
       "      <th>0</th>\n",
       "      <td>Alabama</td>\n",
       "      <td>Hale</td>\n",
       "      <td>38.957877</td>\n",
       "      <td>37.139882</td>\n",
       "    </tr>\n",
       "    <tr>\n",
       "      <th>1</th>\n",
       "      <td>Arkansas</td>\n",
       "      <td>Nevada</td>\n",
       "      <td>56.726272</td>\n",
       "      <td>58.983452</td>\n",
       "    </tr>\n",
       "    <tr>\n",
       "      <th>2</th>\n",
       "      <td>California</td>\n",
       "      <td>Lake</td>\n",
       "      <td>38.896719</td>\n",
       "      <td>39.331367</td>\n",
       "    </tr>\n",
       "  </tbody>\n",
       "</table>\n",
       "</div>"
      ],
      "text/plain": [
       "        state  county  repub_percent_08  repub_percent_12\n",
       "0     Alabama    Hale         38.957877         37.139882\n",
       "1    Arkansas  Nevada         56.726272         58.983452\n",
       "2  California    Lake         38.896719         39.331367"
      ]
     },
     "execution_count": 19,
     "metadata": {},
     "output_type": "execute_result"
    }
   ],
   "source": [
    "sample_data = pd.read_feather(r\"..\\data\\repub_votes_potus_08_12.feather\") \n",
    "sample_data.head(3)"
   ]
  },
  {
   "cell_type": "markdown",
   "metadata": {},
   "source": [
    "### From Two samples to one"
   ]
  },
  {
   "cell_type": "code",
   "execution_count": 20,
   "metadata": {},
   "outputs": [
    {
     "data": {
      "image/png": "[encoded data removed]",
      "text/plain": [
       "<Figure size 640x480 with 1 Axes>"
      ]
     },
     "metadata": {},
     "output_type": "display_data"
    }
   ],
   "source": [
    "#sample_data = repub_percent_08_12\n",
    "\n",
    "# Calculate the differences from 2008 to 2012\n",
    "sample_data[\"diff\"] = sample_data[\"repub_percent_08\"] - sample_data[\"repub_percent_12\"]\n",
    "\n",
    "# Plot a histogram of diff with 20 bins\n",
    "sample_data[\"diff\"].hist(bins=20)\n",
    "plt.show()"
   ]
  },
  {
   "cell_type": "markdown",
   "metadata": {},
   "source": [
    "### Calculate the sample statistic of the difference "
   ]
  },
  {
   "cell_type": "markdown",
   "metadata": {},
   "source": [
    "* Revised hypotheses\n",
    "\n",
    "Old hypotheses:\n",
    "\n",
    "H0: mu_2008 - mu_2012 = 0\n",
    "\n",
    "HA: mu_2008 - mu_2012 < 0\n",
    "\n",
    "* New hypotheses:\n",
    "\n",
    "H0: mu_diff = 0\n",
    "\n",
    "HA: mu_diff < 0\n"
   ]
  },
  {
   "cell_type": "markdown",
   "metadata": {},
   "source": [
    "<img src=\"..\\data\\t_paired_test.jpg\" width=\"200\" height=\"200\">"
   ]
  },
  {
   "cell_type": "code",
   "execution_count": 21,
   "metadata": {},
   "outputs": [],
   "source": [
    "alpha = 0.05"
   ]
  },
  {
   "cell_type": "code",
   "execution_count": 22,
   "metadata": {},
   "outputs": [
    {
     "name": "stdout",
     "output_type": "stream",
     "text": [
      "The t_stat is:-5.601043121928489\n"
     ]
    }
   ],
   "source": [
    "# Find the mean of the diff column\n",
    "xbar_diff = sample_data[\"diff\"].mean()\n",
    "\n",
    "# Find the standard deviation of the diff column\n",
    "s_diff = sample_data[\"diff\"].std()\n",
    "\n",
    "n_diff = len(sample_data)\n",
    "degrees_of_freedom = n_diff - 1\n",
    "t_stat = (xbar_diff-0) / np.sqrt(s_diff ** 2 / n_diff)\n",
    "print(\"The t_stat is:{}\".format(t_stat))"
   ]
  },
  {
   "cell_type": "code",
   "execution_count": 23,
   "metadata": {},
   "outputs": [
    {
     "name": "stdout",
     "output_type": "stream",
     "text": [
      "The p-value is:0.00\n",
      "Reject H0 in favour of HA\n"
     ]
    }
   ],
   "source": [
    "p_value = t.cdf(t_stat, df=degrees_of_freedom)\n",
    "\n",
    "# Print the p-value\n",
    "print(\"The p-value is:{:.2f}\".format(p_value))\n",
    "\n",
    "if p_value <= alpha:\n",
    "    print(\"Reject H0 in favour of HA\")\n",
    "else:\n",
    "    print(\"Failed to reject H0\")"
   ]
  },
  {
   "cell_type": "markdown",
   "metadata": {},
   "source": [
    "### Testing differences between two means using ttest()"
   ]
  },
  {
   "cell_type": "code",
   "execution_count": 24,
   "metadata": {},
   "outputs": [
    {
     "name": "stdout",
     "output_type": "stream",
     "text": [
      "The p-value is:0.00\n",
      "Reject H0 in favour of HA\n"
     ]
    }
   ],
   "source": [
    "# y=0: the hypothesised difference value\n",
    "stats_df = pingouin.ttest(x=sample_data[\"diff\"], y=0, alternative = \"less\")\n",
    "\n",
    "p_value = stats_df[\"p-val\"][0]\n",
    "\n",
    "# Print the p-value\n",
    "print(\"The p-value is:{:.2f}\".format(p_value))\n",
    "\n",
    "if p_value <= alpha:\n",
    "    print(\"Reject H0 in favour of HA\")\n",
    "else:\n",
    "    print(\"Failed to reject H0\")"
   ]
  },
  {
   "cell_type": "markdown",
   "metadata": {},
   "source": [
    "### OR"
   ]
  },
  {
   "cell_type": "code",
   "execution_count": 25,
   "metadata": {},
   "outputs": [
    {
     "name": "stdout",
     "output_type": "stream",
     "text": [
      "The p-value is:0.00\n",
      "Reject H0 in favour of HA\n"
     ]
    }
   ],
   "source": [
    "stats_df = pingouin.ttest(x=sample_data[\"repub_percent_08\"], \n",
    "               y=sample_data[\"repub_percent_12\"],\n",
    "               paired = True, alternative = \"less\")\n",
    "\n",
    "p_value = stats_df[\"p-val\"][0]\n",
    "\n",
    "# Print the p-value\n",
    "print(\"The p-value is:{:.2f}\".format(p_value))\n",
    "\n",
    "if p_value <= alpha:\n",
    "    print(\"Reject H0 in favour of HA\")\n",
    "else:\n",
    "    print(\"Failed to reject H0\")"
   ]
  }
 ],
 "metadata": {
  "kernelspec": {
   "display_name": "base",
   "language": "python",
   "name": "python3"
  },
  "language_info": {
   "codemirror_mode": {
    "name": "ipython",
    "version": 3
   },
   "file_extension": ".py",
   "mimetype": "text/x-python",
   "name": "python",
   "nbconvert_exporter": "python",
   "pygments_lexer": "ipython3",
   "version": "3.11.3"
  }
 },
 "nbformat": 4,
 "nbformat_minor": 2
}
